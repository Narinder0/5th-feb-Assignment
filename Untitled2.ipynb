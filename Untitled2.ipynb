{
 "cells": [
  {
   "cell_type": "code",
   "execution_count": null,
   "id": "6dc02cab-41b6-46e1-9f95-52d4caa63de7",
   "metadata": {},
   "outputs": [],
   "source": [
    "''' 1st Question\n",
    "Class: A blueprint in OOP for creating objects, defining their properties and behaviors.\n",
    "\n",
    "Object: An instance of a class, with its own unique identity and set of properties defined by the class. Represents a real-world entity.\n",
    "Example: Consider a class \"Car\".The class can have properties such as model, color, and number of wheels and behaviors such as start, stop\n",
    "and accelerate.'''"
   ]
  },
  {
   "cell_type": "code",
   "execution_count": null,
   "id": "0bc4ca64-3b4b-4719-9a26-117fa1f9a81d",
   "metadata": {},
   "outputs": [],
   "source": [
    "''' 2nd Question\n",
    "* Abstraction\n",
    "* Encapsulation\n",
    "* Inheritance\n",
    "* Polymorphism"
   ]
  },
  {
   "cell_type": "code",
   "execution_count": 3,
   "id": "b47e2855-8ae2-4e8f-8682-856feff09aec",
   "metadata": {},
   "outputs": [],
   "source": [
    "''' 3rd question\n",
    "The __init__ function, also known as the constructor, is used in Python to initialize an object's state when it is created'''\n",
    "class Dog:\n",
    "    def __init__(self,name,breed,colour):\n",
    "        self.name = name\n",
    "        self.breed = breed\n",
    "        self.colour = colour"
   ]
  },
  {
   "cell_type": "code",
   "execution_count": 5,
   "id": "3b34ae4b-c3f1-415f-a9dc-f37d632be59c",
   "metadata": {},
   "outputs": [],
   "source": [
    "dog = Dog(\"rockey\",\"huskey\",\"white\")"
   ]
  },
  {
   "cell_type": "code",
   "execution_count": 7,
   "id": "febb9e3d-ad6f-44fd-a13c-d4344b92799c",
   "metadata": {},
   "outputs": [
    {
     "data": {
      "text/plain": [
       "'rockey'"
      ]
     },
     "execution_count": 7,
     "metadata": {},
     "output_type": "execute_result"
    }
   ],
   "source": [
    "dog.name"
   ]
  },
  {
   "cell_type": "code",
   "execution_count": 8,
   "id": "055995d4-a73a-4af0-8537-13e4f6e4cdb1",
   "metadata": {},
   "outputs": [
    {
     "data": {
      "text/plain": [
       "'huskey'"
      ]
     },
     "execution_count": 8,
     "metadata": {},
     "output_type": "execute_result"
    }
   ],
   "source": [
    "dog.breed"
   ]
  },
  {
   "cell_type": "code",
   "execution_count": 9,
   "id": "6465e4da-966d-425e-a977-015f0086851d",
   "metadata": {},
   "outputs": [
    {
     "data": {
      "text/plain": [
       "'white'"
      ]
     },
     "execution_count": 9,
     "metadata": {},
     "output_type": "execute_result"
    }
   ],
   "source": [
    "dog.colour"
   ]
  },
  {
   "cell_type": "code",
   "execution_count": 3,
   "id": "5b109880-7a43-4b17-827d-b8d5fd0b4636",
   "metadata": {},
   "outputs": [],
   "source": [
    "'''Question 4th\n",
    "self is a reference to the instance of the class, and it is used to access the attributes and methods of that class.'''\n",
    "class Dog:\n",
    "    def __init__(self,name,breed,colour):\n",
    "        self.name = name\n",
    "        self.breed = breed\n",
    "        self.colour = colour\n",
    "        \n",
    "    def bark(self):\n",
    "        print(f\"{self.name} barks\")"
   ]
  },
  {
   "cell_type": "code",
   "execution_count": 4,
   "id": "1c719b34-6795-4130-8534-3d5d00dbfddf",
   "metadata": {},
   "outputs": [],
   "source": [
    "dog = Dog(\"daisey\",\"labradore\",\"white\")"
   ]
  },
  {
   "cell_type": "code",
   "execution_count": 6,
   "id": "faa854b6-6064-4114-8ad6-41e206e9ee22",
   "metadata": {},
   "outputs": [
    {
     "name": "stdout",
     "output_type": "stream",
     "text": [
      "daisey barks\n"
     ]
    }
   ],
   "source": [
    "dog.bark()"
   ]
  },
  {
   "cell_type": "code",
   "execution_count": null,
   "id": "7e81afa8-e2bc-4e64-9464-eb21072cee8e",
   "metadata": {},
   "outputs": [],
   "source": [
    "'''\n",
    "Inheritance is a fundamental concept in Object-Oriented Programming (OOP) that allows creating new classes based on existing ones\n",
    "* Single inheritance\n",
    "* Multiple inheritance\n",
    "* Multi-level inheritance\n",
    "* Hierarchical inheritance'''"
   ]
  }
 ],
 "metadata": {
  "kernelspec": {
   "display_name": "Python 3 (ipykernel)",
   "language": "python",
   "name": "python3"
  },
  "language_info": {
   "codemirror_mode": {
    "name": "ipython",
    "version": 3
   },
   "file_extension": ".py",
   "mimetype": "text/x-python",
   "name": "python",
   "nbconvert_exporter": "python",
   "pygments_lexer": "ipython3",
   "version": "3.10.8"
  }
 },
 "nbformat": 4,
 "nbformat_minor": 5
}
